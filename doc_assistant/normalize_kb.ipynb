{
 "cells": [
  {
   "cell_type": "code",
   "execution_count": 1,
   "metadata": {},
   "outputs": [
    {
     "name": "stderr",
     "output_type": "stream",
     "text": [
      "/home/asa/repo/git/A0580/.venv/lib/python3.11/site-packages/tqdm/auto.py:21: TqdmWarning: IProgress not found. Please update jupyter and ipywidgets. See https://ipywidgets.readthedocs.io/en/stable/user_install.html\n",
      "  from .autonotebook import tqdm as notebook_tqdm\n"
     ]
    }
   ],
   "source": [
    "import streamlit as st\n",
    "from pathlib import Path\n",
    "from typing import Dict, Any, List, Tuple, Optional\n",
    "from datetime import datetime\n",
    "import tempfile\n",
    "import asyncio\n",
    "from functools import lru_cache\n",
    "import time\n",
    "from backend.kb_management.manager import KnowledgeBaseManager\n",
    "\n",
    "import os"
   ]
  },
  {
   "cell_type": "code",
   "execution_count": 18,
   "metadata": {},
   "outputs": [],
   "source": [
    "# Configuration des chemins\n",
    "storage_dir = \"data/knowledge_bases/chromadb\"\n",
    "\n",
    "\n",
    "kb_manager = KnowledgeBaseManager(storage_directory=str(storage_dir))"
   ]
  },
  {
   "cell_type": "code",
   "execution_count": 2,
   "metadata": {},
   "outputs": [],
   "source": [
    "import chromadb\n",
    "client_dir = \"data/knowledge_bases/chromadb/vector_storage\"\n",
    "client = chromadb.PersistentClient(path=client_dir)"
   ]
  },
  {
   "cell_type": "code",
   "execution_count": 8,
   "metadata": {},
   "outputs": [
    {
     "name": "stdout",
     "output_type": "stream",
     "text": [
      "[Collection(id=493e41b9-23a5-4492-a3e1-a22e88cb9888, name=normes), Collection(id=a4d8d187-7854-4770-8850-1783be350aa0, name=CCTP_A0579), Collection(id=d766a265-2f58-4314-ab14-91529d9f45b7, name=A0275)]\n"
     ]
    }
   ],
   "source": [
    "collections = client.list_collections()\n",
    "print(collections)"
   ]
  },
  {
   "cell_type": "code",
   "execution_count": 21,
   "metadata": {},
   "outputs": [
    {
     "ename": "IndexError",
     "evalue": "list index out of range",
     "output_type": "error",
     "traceback": [
      "\u001b[0;31m---------------------------------------------------------------------------\u001b[0m",
      "\u001b[0;31mIndexError\u001b[0m                                Traceback (most recent call last)",
      "Cell \u001b[0;32mIn[21], line 3\u001b[0m\n\u001b[1;32m      1\u001b[0m collection \u001b[38;5;241m=\u001b[39m client\u001b[38;5;241m.\u001b[39mget_collection(\u001b[38;5;124m\"\u001b[39m\u001b[38;5;124mnormes\u001b[39m\u001b[38;5;124m\"\u001b[39m)\n\u001b[1;32m      2\u001b[0m result \u001b[38;5;241m=\u001b[39m collection\u001b[38;5;241m.\u001b[39mget(include\u001b[38;5;241m=\u001b[39m[\u001b[38;5;124m\"\u001b[39m\u001b[38;5;124membeddings\u001b[39m\u001b[38;5;124m\"\u001b[39m], limit\u001b[38;5;241m=\u001b[39m\u001b[38;5;241m1\u001b[39m)\n\u001b[0;32m----> 3\u001b[0m dimension \u001b[38;5;241m=\u001b[39m \u001b[38;5;28mlen\u001b[39m(\u001b[43mresult\u001b[49m\u001b[43m[\u001b[49m\u001b[38;5;124;43m'\u001b[39;49m\u001b[38;5;124;43membeddings\u001b[39;49m\u001b[38;5;124;43m'\u001b[39;49m\u001b[43m]\u001b[49m\u001b[43m[\u001b[49m\u001b[38;5;241;43m0\u001b[39;49m\u001b[43m]\u001b[49m)\n\u001b[1;32m      4\u001b[0m \u001b[38;5;28mprint\u001b[39m(\u001b[38;5;124mf\u001b[39m\u001b[38;5;124m\"\u001b[39m\u001b[38;5;124mLa dimension des embeddings de cette collection est : \u001b[39m\u001b[38;5;132;01m{\u001b[39;00mdimension\u001b[38;5;132;01m}\u001b[39;00m\u001b[38;5;124m\"\u001b[39m)\n",
      "\u001b[0;31mIndexError\u001b[0m: list index out of range"
     ]
    }
   ],
   "source": [
    "collection = client.get_collection(\"normes\")\n",
    "result = collection.get(include=[\"embeddings\"], limit=1)\n",
    "dimension = len(result['embeddings'][0])\n",
    "print(f\"La dimension des embeddings de cette collection est : {dimension}\")"
   ]
  },
  {
   "cell_type": "code",
   "execution_count": 7,
   "metadata": {},
   "outputs": [],
   "source": [
    "client.delete_collection(\"A0507\")"
   ]
  },
  {
   "cell_type": "code",
   "execution_count": 4,
   "metadata": {},
   "outputs": [
    {
     "data": {
      "text/plain": [
       "[{'id': 'normes',\n",
       "  'title': 'normes ferroviaires',\n",
       "  'description': 'règles de sécurité ferroviaires',\n",
       "  'language': 'fr',\n",
       "  'created_on': 1732717589},\n",
       " {'id': 'A0579',\n",
       "  'title': 'Infrabel',\n",
       "  'description': 'Affaire A0579 concernant le projet Infrabel, pour des locomotives pour la Belgique',\n",
       "  'language': 'fr',\n",
       "  'created_on': 1732717982}]"
      ]
     },
     "execution_count": 4,
     "metadata": {},
     "output_type": "execute_result"
    }
   ],
   "source": [
    "kb_manager.list_knowledge_bases()"
   ]
  },
  {
   "cell_type": "code",
   "execution_count": 5,
   "metadata": {},
   "outputs": [],
   "source": [
    "def list_chromadb_collections(self) -> List[dict]:\n",
    "    \"\"\"\n",
    "    Liste toutes les collections ChromaDB avec leurs métadonnées.\n",
    "    \n",
    "    Returns:\n",
    "        List[dict]: Liste des collections avec leurs informations\n",
    "            - name: nom de la collection\n",
    "            - dimension: dimension des vecteurs\n",
    "            - metadata: métadonnées de la collection\n",
    "            - count: nombre d'éléments\n",
    "            - is_orphan: True si la collection n'a pas de KB correspondante\n",
    "    \"\"\"\n",
    "    collections_info = []\n",
    "    \n",
    "    try:\n",
    "        # Récupérer la liste des KBs valides\n",
    "        valid_kb_ids = set(kb[\"id\"] for kb in self.list_knowledge_bases())\n",
    "        \n",
    "        # Lister toutes les collections\n",
    "        for collection_name in self.chroma_client.list_collections():\n",
    "            try:\n",
    "                collection = self.chroma_client.get_collection(collection_name)\n",
    "                collection_info = collection.get()\n",
    "                count = collection.count()\n",
    "                \n",
    "                # Vérifier si la collection est orpheline\n",
    "                is_orphan = collection_name not in valid_kb_ids\n",
    "                \n",
    "                collections_info.append({\n",
    "                    \"name\": collection_name,\n",
    "                    \"dimension\": collection_info.get(\"dimension\"),\n",
    "                    \"metadata\": collection_info.get(\"metadata\", {}),\n",
    "                    \"count\": count,\n",
    "                    \"is_orphan\": is_orphan,\n",
    "                    \"error\": None\n",
    "                })\n",
    "            except Exception as e:\n",
    "                # Gérer les collections corrompues\n",
    "                collections_info.append({\n",
    "                    \"name\": collection_name,\n",
    "                    \"dimension\": None,\n",
    "                    \"metadata\": {},\n",
    "                    \"count\": 0,\n",
    "                    \"is_orphan\": True,\n",
    "                    \"error\": str(e)\n",
    "                })\n",
    "                \n",
    "    except Exception as e:\n",
    "        print(f\"Erreur lors de la liste des collections: {str(e)}\")\n",
    "        \n",
    "    return collections_info"
   ]
  },
  {
   "cell_type": "code",
   "execution_count": 6,
   "metadata": {},
   "outputs": [
    {
     "ename": "TypeError",
     "evalue": "list_chromadb_collections() missing 1 required positional argument: 'self'",
     "output_type": "error",
     "traceback": [
      "\u001b[0;31m---------------------------------------------------------------------------\u001b[0m",
      "\u001b[0;31mTypeError\u001b[0m                                 Traceback (most recent call last)",
      "Cell \u001b[0;32mIn[6], line 1\u001b[0m\n\u001b[0;32m----> 1\u001b[0m \u001b[38;5;28mprint\u001b[39m(\u001b[43mlist_chromadb_collections\u001b[49m\u001b[43m(\u001b[49m\u001b[43m)\u001b[49m)\n",
      "\u001b[0;31mTypeError\u001b[0m: list_chromadb_collections() missing 1 required positional argument: 'self'"
     ]
    }
   ],
   "source": [
    "print(list_chromadb_collections())"
   ]
  }
 ],
 "metadata": {
  "kernelspec": {
   "display_name": ".venv",
   "language": "python",
   "name": "python3"
  },
  "language_info": {
   "codemirror_mode": {
    "name": "ipython",
    "version": 3
   },
   "file_extension": ".py",
   "mimetype": "text/x-python",
   "name": "python",
   "nbconvert_exporter": "python",
   "pygments_lexer": "ipython3",
   "version": "3.11.2"
  }
 },
 "nbformat": 4,
 "nbformat_minor": 2
}
